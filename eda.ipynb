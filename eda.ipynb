{
 "cells": [
  {
   "cell_type": "markdown",
   "metadata": {},
   "source": [
    "# Import packages"
   ]
  },
  {
   "cell_type": "code",
   "execution_count": null,
   "metadata": {},
   "outputs": [],
   "source": [
    "import os\n",
    "import numpy as np\n",
    "import pandas as pd\n",
    "import seaborn as sns\n",
    "import random\n",
    "import matplotlib as mpl\n",
    "\n",
    "from matplotlib import pyplot as plt\n",
    "from PIL import Image"
   ]
  },
  {
   "cell_type": "markdown",
   "metadata": {},
   "source": [
    "# Configurations"
   ]
  },
  {
   "cell_type": "code",
   "execution_count": null,
   "metadata": {},
   "outputs": [],
   "source": [
    "fontprop = mpl.font_manager.FontProperties(fname='sundry/NanumMyeongjo.ttf', size=15)"
   ]
  },
  {
   "cell_type": "markdown",
   "metadata": {},
   "source": [
    "# Load data"
   ]
  },
  {
   "cell_type": "code",
   "execution_count": null,
   "metadata": {},
   "outputs": [],
   "source": [
    "df_info = pd.read_csv('task1_data/info_etri20_emotion_train.csv')\n",
    "df_info"
   ]
  },
  {
   "cell_type": "markdown",
   "metadata": {},
   "source": [
    "# Preprocessing & Visualization"
   ]
  },
  {
   "cell_type": "code",
   "execution_count": null,
   "metadata": {},
   "outputs": [],
   "source": [
    "daily_list = ['실내복', '가벼운 외출', '오피스룩', '격식차린', '이벤트', '교복', '운동복']\n",
    "daily_map = {id: nm for id, nm in zip(np.arange(len(daily_list)), daily_list)}\n",
    "\n",
    "gender_list = ['밀리터리', '매니쉬', '유니섹스', '걸리쉬', '우아한', '섹시한']\n",
    "gender_map = {id: nm for id, nm in zip(np.arange(len(gender_list)), gender_list)}\n",
    "\n",
    "embellishment_list = ['장식이 없는', '포인트 장식이 있는', '장식이 많은']\n",
    "embellishment_map = {id: nm for id, nm in zip(np.arange(len(embellishment_list)), embellishment_list)}\n"
   ]
  },
  {
   "cell_type": "code",
   "execution_count": null,
   "metadata": {},
   "outputs": [],
   "source": [
    "# Add string type category\n",
    "df_info['Daily_str'] = df_info.Daily.map(daily_map)\n",
    "df_info['Gender_str'] = df_info.Gender.map(gender_map)\n",
    "df_info['Embellishment_str'] = df_info.Embellishment.map(embellishment_map)\n",
    "df_info['desc'] = df_info.apply(lambda x: ', '.join([ x['Daily_str'], x['Gender_str'], x['Embellishment_str'] ]), axis=1)"
   ]
  },
  {
   "cell_type": "code",
   "execution_count": null,
   "metadata": {},
   "outputs": [],
   "source": [
    "# plot - Random image check\n",
    "img_base_path = 'task1_data/train/'\n",
    "\n",
    "rand_idx = random.sample(df_info.index.to_list(), 1)\n",
    "rand_img_path, rand_img_desc = df_info.loc[rand_idx, :].image_name.values[0], df_info.loc[rand_idx, :].desc.values[0]\n",
    "rand_img = plt.imread(img_base_path + rand_img_path)\n",
    "fig = plt.figure(figsize=(8, 8))\n",
    "ax = plt.imshow(rand_img)\n",
    "plt.title(rand_img_desc, font=fontprop, fontsize=25)\n",
    "plt.axis('off')"
   ]
  },
  {
   "cell_type": "code",
   "execution_count": null,
   "metadata": {},
   "outputs": [],
   "source": [
    "# plot - countplot for categories\n",
    "col_list = ['Daily', 'Gender', 'Embellishment']\n",
    "xticklabels_list = [daily_list, gender_list, embellishment_list]\n",
    "\n",
    "fig_cnt, ax_cnt = plt.subplots(1, 3, figsize=(24, 8))\n",
    "\n",
    "for idx, col in enumerate(col_list):\n",
    "    sns.countplot(\n",
    "        df_info[col],\n",
    "        ax=ax_cnt[idx],\n",
    "        )\n",
    "    \n",
    "    ax_cnt[idx].set_xticklabels(xticklabels_list[idx], rotation=90, font=fontprop)"
   ]
  }
 ],
 "metadata": {
  "interpreter": {
   "hash": "1e4b065e9688af662a9cf1b043cbe23c3fe912d469e819e9bdd9e255c9e0fad3"
  },
  "kernelspec": {
   "display_name": "Python 3.8.13 ('pysal_test')",
   "language": "python",
   "name": "python3"
  },
  "language_info": {
   "codemirror_mode": {
    "name": "ipython",
    "version": 3
   },
   "file_extension": ".py",
   "mimetype": "text/x-python",
   "name": "python",
   "nbconvert_exporter": "python",
   "pygments_lexer": "ipython3",
   "version": "3.8.13"
  },
  "orig_nbformat": 4
 },
 "nbformat": 4,
 "nbformat_minor": 2
}
